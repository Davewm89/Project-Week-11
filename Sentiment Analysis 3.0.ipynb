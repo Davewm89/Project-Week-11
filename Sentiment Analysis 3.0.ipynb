{
 "cells": [
  {
   "cell_type": "code",
   "execution_count": 331,
   "id": "f6e6cd65",
   "metadata": {},
   "outputs": [],
   "source": [
    "# import essential libraries\n",
    "import pandas as pd\n",
    "import numpy as np\n",
    "import matplotlib.pyplot as plt\n",
    "import seaborn as sns\n",
    "\n",
    "%matplotlib inline"
   ]
  },
  {
   "cell_type": "code",
   "execution_count": 333,
   "id": "d546a0f6",
   "metadata": {},
   "outputs": [
    {
     "name": "stdout",
     "output_type": "stream",
     "text": [
      "(1000, 10)\n"
     ]
    },
    {
     "data": {
      "text/html": [
       "<div>\n",
       "<style scoped>\n",
       "    .dataframe tbody tr th:only-of-type {\n",
       "        vertical-align: middle;\n",
       "    }\n",
       "\n",
       "    .dataframe tbody tr th {\n",
       "        vertical-align: top;\n",
       "    }\n",
       "\n",
       "    .dataframe thead th {\n",
       "        text-align: right;\n",
       "    }\n",
       "</style>\n",
       "<table border=\"1\" class=\"dataframe\">\n",
       "  <thead>\n",
       "    <tr style=\"text-align: right;\">\n",
       "      <th></th>\n",
       "      <th>author</th>\n",
       "      <th>date</th>\n",
       "      <th>address</th>\n",
       "      <th>bank</th>\n",
       "      <th>rating</th>\n",
       "      <th>review_title_by_user</th>\n",
       "      <th>review</th>\n",
       "      <th>bank_image</th>\n",
       "      <th>rating_title_by_user</th>\n",
       "      <th>useful_count</th>\n",
       "    </tr>\n",
       "  </thead>\n",
       "  <tbody>\n",
       "    <tr>\n",
       "      <th>0</th>\n",
       "      <td>AMRENDRA  T</td>\n",
       "      <td>Mar 21, 2020</td>\n",
       "      <td>Stockport</td>\n",
       "      <td>Santander</td>\n",
       "      <td>4.0</td>\n",
       "      <td>\"Best saving\"</td>\n",
       "      <td>Bank of England Of UK is located nearby in our...</td>\n",
       "      <td>https://static.bankbazaar.com/images/common/ba...</td>\n",
       "      <td>Great!</td>\n",
       "      <td>133</td>\n",
       "    </tr>\n",
       "    <tr>\n",
       "      <th>1</th>\n",
       "      <td>BISHWA</td>\n",
       "      <td>Mar 20, 2020</td>\n",
       "      <td>Basildon</td>\n",
       "      <td>Santander</td>\n",
       "      <td>5.0</td>\n",
       "      <td>\"Good service\"</td>\n",
       "      <td>I have my salary account in Santander, when I ...</td>\n",
       "      <td>https://static.bankbazaar.com/images/common/ba...</td>\n",
       "      <td>Blown Away!</td>\n",
       "      <td>89</td>\n",
       "    </tr>\n",
       "    <tr>\n",
       "      <th>2</th>\n",
       "      <td>SANTOSH</td>\n",
       "      <td>Mar 20, 2020</td>\n",
       "      <td>Croydon</td>\n",
       "      <td>Lloyds Bank</td>\n",
       "      <td>5.0</td>\n",
       "      <td>\"Excellent Service\"</td>\n",
       "      <td>I am using Lloyds Bank saving account for the ...</td>\n",
       "      <td>https://static.bankbazaar.com/images/common/ba...</td>\n",
       "      <td>Blown Away!</td>\n",
       "      <td>48</td>\n",
       "    </tr>\n",
       "    <tr>\n",
       "      <th>3</th>\n",
       "      <td>MAHADEV</td>\n",
       "      <td>Mar 20, 2020</td>\n",
       "      <td>Stevenage</td>\n",
       "      <td>HSBC</td>\n",
       "      <td>5.0</td>\n",
       "      <td>\"Excellent service\"</td>\n",
       "      <td>I have my salary bank account in HSBC for many...</td>\n",
       "      <td>https://static.bankbazaar.com/images/common/ba...</td>\n",
       "      <td>Blown Away!</td>\n",
       "      <td>52</td>\n",
       "    </tr>\n",
       "    <tr>\n",
       "      <th>4</th>\n",
       "      <td>R</td>\n",
       "      <td>Mar 20, 2020</td>\n",
       "      <td>Cardiff</td>\n",
       "      <td>Unknown</td>\n",
       "      <td>5.0</td>\n",
       "      <td>\"Good account\"</td>\n",
       "      <td>Close to around 10 years, I am holding this Co...</td>\n",
       "      <td>https://static.bankbazaar.com/images/common/ba...</td>\n",
       "      <td>Blown Away!</td>\n",
       "      <td>22</td>\n",
       "    </tr>\n",
       "  </tbody>\n",
       "</table>\n",
       "</div>"
      ],
      "text/plain": [
       "        author          date    address         bank  rating  \\\n",
       "0  AMRENDRA  T  Mar 21, 2020  Stockport    Santander     4.0   \n",
       "1       BISHWA  Mar 20, 2020   Basildon    Santander     5.0   \n",
       "2      SANTOSH  Mar 20, 2020    Croydon  Lloyds Bank     5.0   \n",
       "3      MAHADEV  Mar 20, 2020  Stevenage         HSBC     5.0   \n",
       "4            R  Mar 20, 2020    Cardiff      Unknown     5.0   \n",
       "\n",
       "  review_title_by_user                                             review  \\\n",
       "0        \"Best saving\"  Bank of England Of UK is located nearby in our...   \n",
       "1       \"Good service\"  I have my salary account in Santander, when I ...   \n",
       "2  \"Excellent Service\"  I am using Lloyds Bank saving account for the ...   \n",
       "3  \"Excellent service\"  I have my salary bank account in HSBC for many...   \n",
       "4       \"Good account\"  Close to around 10 years, I am holding this Co...   \n",
       "\n",
       "                                          bank_image rating_title_by_user  \\\n",
       "0  https://static.bankbazaar.com/images/common/ba...               Great!   \n",
       "1  https://static.bankbazaar.com/images/common/ba...          Blown Away!   \n",
       "2  https://static.bankbazaar.com/images/common/ba...          Blown Away!   \n",
       "3  https://static.bankbazaar.com/images/common/ba...          Blown Away!   \n",
       "4  https://static.bankbazaar.com/images/common/ba...          Blown Away!   \n",
       "\n",
       "   useful_count  \n",
       "0           133  \n",
       "1            89  \n",
       "2            48  \n",
       "3            52  \n",
       "4            22  "
      ]
     },
     "execution_count": 333,
     "metadata": {},
     "output_type": "execute_result"
    }
   ],
   "source": [
    "# load the dataset\n",
    "data = pd.read_csv('data_new.csv')\n",
    "\n",
    "# check the dimension of the dataset\n",
    "print(data.shape)\n",
    "\n",
    "# view the first 5 rows of the dataset\n",
    "data.head()"
   ]
  },
  {
   "cell_type": "code",
   "execution_count": null,
   "id": "08de1efd",
   "metadata": {},
   "outputs": [],
   "source": [
    "data.info()"
   ]
  },
  {
   "cell_type": "code",
   "execution_count": null,
   "id": "7d28a8b1",
   "metadata": {},
   "outputs": [],
   "source": [
    "# total number of bank and address in the dataset\n",
    "\n",
    "numAddress = data['address'].nunique()\n",
    "numBank = data['bank'].nunique()\n",
    "\n",
    "print(f'The reviews are collected from {numBank} different banks that located around {numAddress} of places in India.')\n",
    "print('These banks are: ', data.bank.unique())"
   ]
  },
  {
   "cell_type": "code",
   "execution_count": null,
   "id": "6261e77d",
   "metadata": {},
   "outputs": [],
   "source": [
    "# some of the data without 'bank' name and is named as 'review' in the dataset\n",
    "# convert these data to 'Unknown'\n",
    "\n",
    "data['bank'].replace('review','Unknown', inplace=True)"
   ]
  },
  {
   "cell_type": "code",
   "execution_count": null,
   "id": "7ee4b1b4",
   "metadata": {},
   "outputs": [],
   "source": [
    "data.head()"
   ]
  },
  {
   "cell_type": "code",
   "execution_count": null,
   "id": "fdf57ece",
   "metadata": {},
   "outputs": [],
   "source": [
    "data['bank'].unique()"
   ]
  },
  {
   "cell_type": "code",
   "execution_count": null,
   "id": "6ce54d55",
   "metadata": {},
   "outputs": [],
   "source": [
    "data.drop(columns=['author', 'date', 'bank_image'], axis=1, inplace=True)"
   ]
  },
  {
   "cell_type": "code",
   "execution_count": null,
   "id": "a2223a08",
   "metadata": {},
   "outputs": [],
   "source": [
    "# total number of bank and address in the dataset\n",
    "\n",
    "numAddress = data['address'].nunique()\n",
    "numBank = data['bank'].nunique()\n",
    "\n",
    "print(f'The reviews are collected from {numBank} different banks that located around {numAddress} of places in United Kingdom.')\n",
    "print('These banks are: ', data.bank.unique())"
   ]
  },
  {
   "cell_type": "code",
   "execution_count": null,
   "id": "17408dc7",
   "metadata": {},
   "outputs": [],
   "source": [
    "# distribution of the column 'address'\n",
    "address = data['address'].value_counts().sort_values(ascending=False)[:10]\n",
    "\n",
    "colors = ['red','crimson','orange','darksalmon','yellow','lemonchiffon','limegreen','lightgreen','navy','mediumslateblue']\n",
    "explodes = ([0.05]*5) + ([0]*5)\n",
    "\n",
    "# visualization (top 10 places where the reviews are collected from)\n",
    "figure, axes = plt.subplots(1,2, figsize=(15,5), gridspec_kw={'width_ratios':[1.5,1]})\n",
    "axes[0].barh(y=address.index, width=address.values, color=colors)\n",
    "axes[0].set_xlabel('Frequency')\n",
    "\n",
    "for index, values in enumerate (address):\n",
    "        axes[0].text(values+3, index, str(values), va='center')\n",
    "        \n",
    "        axes[0].grid(alpha=0.4)\n",
    "        axes[1].pie(address.values, labels=address.index, autopct='%.2f%%', explode=explodes, colors=colors)\n",
    "        figure.suptitle('Top 10 Places where the Reviews are Collected From', fontsize=15)\n",
    "        plt.tight_layout()\n",
    "        plt.show()"
   ]
  },
  {
   "cell_type": "code",
   "execution_count": null,
   "id": "d83ba4cc",
   "metadata": {},
   "outputs": [],
   "source": [
    "# distribution of the data by 'bank'\n",
    "bank = data['bank'].value_counts().sort_values(ascending=False)\n",
    "\n",
    "# visualization in bar chart and pie chart\n",
    "figure, axes = plt.subplots(1,2, figsize=(15,5), gridspec_kw={'width_ratios':[1.5,1]})\n",
    "axes[0].barh(y=bank.index, width=bank.values, color=colors)\n",
    "axes[0].set_xlabel('Frequency')\n",
    "\n",
    "for index, values in enumerate (bank):\n",
    "        axes[0].text(values+3, index, str(values), va='center')\n",
    "        \n",
    "        axes[0].grid(alpha=0.4)\n",
    "        axes[1].pie(bank.values, labels=bank.index, autopct='%.2f%%', explode=explodes, colors=colors)\n",
    "        figure.suptitle('Number of Reviews Collected from Each Bank', fontsize=15)\n",
    "        plt.tight_layout()\n",
    "        plt.show()"
   ]
  },
  {
   "cell_type": "code",
   "execution_count": null,
   "id": "9ff5e0fc",
   "metadata": {},
   "outputs": [],
   "source": [
    "# distribution of rating (by rating score)\n",
    "# convert the rating from int to str\n",
    "data_copy = data.copy()\n",
    "data_copy['rating'] = data_copy['rating'].astype(str)\n",
    "\n",
    "rating = data_copy['rating'].value_counts().sort_index(ascending=False)\n",
    "\n",
    "# visualization in bar chart and pie chart\n",
    "figure, axes = plt.subplots(1,2, figsize=(15,5), gridspec_kw={'width_ratios':[1.5,1]})\n",
    "axes[0].barh(y=rating.index, width=rating.values, color=colors)\n",
    "axes[0].set_xlabel('Frequency')\n",
    "\n",
    "for index, values in enumerate (rating):\n",
    "        axes[0].text(values+3, index, str(values), va='center')\n",
    "        \n",
    "        axes[0].grid(alpha=0.4)\n",
    "        axes[1].pie(rating.values, labels=rating.index, autopct='%.2f%%', explode=explodes, colors=colors)\n",
    "        figure.suptitle('Overall Distribution of Rating (by rating score) in 1000 Reviews', fontsize=15)\n",
    "        plt.tight_layout()\n",
    "        plt.show()"
   ]
  },
  {
   "cell_type": "code",
   "execution_count": null,
   "id": "a82c3b0e",
   "metadata": {},
   "outputs": [],
   "source": [
    "# distribution of rating (by rating title)\n",
    "rating_order = ['Unacceptable','Really Bad','Bad','Expected more','Just OK','Satisfactory','Pretty good','Great!','Excellent!','Blown Away!']\n",
    "rating_title = data['rating_title_by_user'].value_counts(sort=False).reindex(rating_order)\n",
    "reversed_rating_title = rating_title[::-1]\n",
    "\n",
    "# visualization in bar chart and pie chart\n",
    "figure, axes = plt.subplots(1,2, figsize=(15,5), gridspec_kw={'width_ratios':[1.5,1]})\n",
    "axes[0].barh(y=reversed_rating_title.index, width=reversed_rating_title.values, color=colors)\n",
    "axes[0].set_xlabel('Frequency')\n",
    "\n",
    "for index, values in enumerate (reversed_rating_title):\n",
    "        axes[0].text(values+3, index, str(values), va='center')\n",
    "        \n",
    "        axes[0].grid(alpha=0.4)\n",
    "        axes[1].pie(reversed_rating_title.values, labels=reversed_rating_title.index, autopct='%.2f%%', explode=explodes, colors=colors)\n",
    "        figure.suptitle('Overall Distribution of Rating (by rating title) in 1000 Reviews', fontsize=15)\n",
    "        plt.tight_layout()\n",
    "        plt.show()"
   ]
  },
  {
   "cell_type": "code",
   "execution_count": null,
   "id": "c9feb598",
   "metadata": {},
   "outputs": [],
   "source": [
    "from wordcloud import WordCloud\n",
    "\n",
    "combined_title = ' '.join(data['review_title_by_user'])\n",
    "\n",
    "\n",
    "# create a word cloud using the combined text\n",
    "wordcloud_title = WordCloud(collocations=False, width = 800, height = 800,\n",
    "                                                       background_color ='black',\n",
    "                                                       min_font_size = 10).generate(combined_title)\n",
    "\n",
    "# plot the WordCloud image\n",
    "plt.figure(figsize=(6,6))\n",
    "plt.imshow(wordcloud_title)\n",
    "plt.axis('off')\n",
    "plt.title('User Review Title', fontsize=20)\n",
    "plt.tight_layout(pad=2)\n",
    "plt.show()"
   ]
  },
  {
   "cell_type": "code",
   "execution_count": null,
   "id": "7eb0ccd8",
   "metadata": {},
   "outputs": [],
   "source": [
    "# subset the data that rating score is 2.5 and lower\n",
    "data_copy = data.copy()\n",
    "data_copy = data[data['rating']<=2.5]\n",
    "\n",
    "combined_title_lowrate = ' '.join(data_copy['review_title_by_user'])\n",
    "\n",
    "\n",
    "# create a word cloud using the combined text\n",
    "wordcloud_lowrate = WordCloud(width = 800, height = 800,\n",
    "                                                         background_color ='black',\n",
    "                                                         min_font_size = 10).generate(combined_title_lowrate)\n",
    "\n",
    "# plot the WordCloud image\n",
    "plt.figure(figsize=(6,6))\n",
    "plt.imshow(wordcloud_lowrate)\n",
    "plt.axis('off')\n",
    "plt.title('User Review Title (Rating Score Lower than 2.5)', fontsize=15)\n",
    "plt.tight_layout(pad=2)\n",
    "plt.show()"
   ]
  },
  {
   "cell_type": "code",
   "execution_count": null,
   "id": "5bd33305",
   "metadata": {},
   "outputs": [],
   "source": [
    "import nltk\n",
    "nltk.download('vader_lexicon')\n",
    "from nltk.sentiment import SentimentIntensityAnalyzer\n",
    "\n",
    "# initialize the object of SentimentIntensityAnalyzer\n",
    "sia = SentimentIntensityAnalyzer()"
   ]
  },
  {
   "cell_type": "code",
   "execution_count": null,
   "id": "86d9dcc1",
   "metadata": {},
   "outputs": [],
   "source": [
    "# calculate the polarity scores of the review\n",
    "data['polarity'] = data['review'].apply(sia.polarity_scores)\n",
    "data['compound'] = data['polarity'].apply(lambda x: x.get('compound'))"
   ]
  },
  {
   "cell_type": "code",
   "execution_count": null,
   "id": "1ddb2a67",
   "metadata": {},
   "outputs": [],
   "source": [
    "# define a function to perform the sentiment categorization\n",
    "def categorize(score):\n",
    "        if score < 0:\n",
    "            return 'To be Improved'\n",
    "        elif score > 0.8:\n",
    "            return 'Blown Away'\n",
    "        else:\n",
    "            return 'Neutral'"
   ]
  },
  {
   "cell_type": "code",
   "execution_count": null,
   "id": "17f5b855",
   "metadata": {},
   "outputs": [],
   "source": [
    "# insert a new column 'Sentiment_Category' by categorized the sentiment based on the compound score\n",
    "data['Sentiment_Category'] = data['compound'].apply(categorize)\n",
    "\n",
    "# view the first 5 rows of the data after new columns inserted\n",
    "data.head()"
   ]
  },
  {
   "cell_type": "code",
   "execution_count": null,
   "id": "c6edbe2d",
   "metadata": {},
   "outputs": [],
   "source": [
    "df=data.groupby('Sentiment_Category').count()"
   ]
  },
  {
   "cell_type": "code",
   "execution_count": null,
   "id": "f24e4476",
   "metadata": {},
   "outputs": [],
   "source": [
    "df.head().sort_values(['compound'])"
   ]
  },
  {
   "cell_type": "code",
   "execution_count": null,
   "id": "04f515b8",
   "metadata": {},
   "outputs": [],
   "source": [
    "data_copy = data.copy()\n",
    "data_copy = data[data['Sentiment_Category']=='To be Improved']\n",
    "\n",
    "combined_tobeImproved = ' '.join(data_copy['review'])\n",
    "\n",
    "\n",
    "# create a word cloud using the combined text\n",
    "wordcloud_tobeImproved = WordCloud(width = 800, height = 800,\n",
    "                                                              background_color ='black',\n",
    "                                                              min_font_size = 10).generate(combined_tobeImproved)\n",
    "\n",
    "# plot the WordCloud image\n",
    "plt.figure(figsize=(8,8))\n",
    "plt.imshow(wordcloud_tobeImproved)\n",
    "plt.axis('off')\n",
    "plt.title('User Review Title (Category: To be Improved)', fontsize=15)\n",
    "plt.tight_layout(pad=2)\n",
    "plt.show()"
   ]
  },
  {
   "cell_type": "code",
   "execution_count": null,
   "id": "30643a5f",
   "metadata": {},
   "outputs": [],
   "source": [
    "import re\n",
    "\n",
    "common_words = ['bank', 'account','salary','saving','savings','pounds']\n",
    "\n",
    "pattern = re.compile(r'\\b(?:' + '|'.join(map(re.escape, common_words)) + r')\\b', flags=re.IGNORECASE)\n",
    "filtered_string = pattern.sub('', combined_tobeImproved)"
   ]
  },
  {
   "cell_type": "code",
   "execution_count": null,
   "id": "1f198817",
   "metadata": {},
   "outputs": [],
   "source": [
    "# create a word cloud using the combined text\n",
    "wordcloud_tobeImproved = WordCloud(width = 800, height = 800,\n",
    "                                                              background_color ='black',\n",
    "                                                              min_font_size = 10).generate(filtered_string)\n",
    "\n",
    "# plot the WordCloud image\n",
    "plt.figure(figsize=(8,8))\n",
    "plt.imshow(wordcloud_tobeImproved)\n",
    "plt.axis('off')\n",
    "plt.title('User Review Title (Category: Common Words)', fontsize=15)\n",
    "plt.tight_layout(pad=2)\n",
    "plt.show()"
   ]
  },
  {
   "cell_type": "code",
   "execution_count": null,
   "id": "a754342a",
   "metadata": {},
   "outputs": [],
   "source": []
  }
 ],
 "metadata": {
  "kernelspec": {
   "display_name": "Python 3 (ipykernel)",
   "language": "python",
   "name": "python3"
  },
  "language_info": {
   "codemirror_mode": {
    "name": "ipython",
    "version": 3
   },
   "file_extension": ".py",
   "mimetype": "text/x-python",
   "name": "python",
   "nbconvert_exporter": "python",
   "pygments_lexer": "ipython3",
   "version": "3.10.9"
  }
 },
 "nbformat": 4,
 "nbformat_minor": 5
}
